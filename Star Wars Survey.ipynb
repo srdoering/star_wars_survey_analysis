{
 "cells": [
  {
   "cell_type": "markdown",
   "metadata": {},
   "source": [
    "## Star Wars Movie Rankings & Fan Characteristics\n",
    "\n",
    "In this project, we'll analyze the results of a survey about the popularity of different Star Wars films.\n",
    "The [original survey data](https://github.com/fivethirtyeight/data/tree/master/star-wars-survey) was collected by Walt Hickey at fivethirtyeight.com.\n",
    "\n",
    "First we'll read in the data and clean it. "
   ]
  },
  {
   "cell_type": "code",
   "execution_count": 1,
   "metadata": {},
   "outputs": [
    {
     "data": {
      "text/html": [
       "<div>\n",
       "<style scoped>\n",
       "    .dataframe tbody tr th:only-of-type {\n",
       "        vertical-align: middle;\n",
       "    }\n",
       "\n",
       "    .dataframe tbody tr th {\n",
       "        vertical-align: top;\n",
       "    }\n",
       "\n",
       "    .dataframe thead th {\n",
       "        text-align: right;\n",
       "    }\n",
       "</style>\n",
       "<table border=\"1\" class=\"dataframe\">\n",
       "  <thead>\n",
       "    <tr style=\"text-align: right;\">\n",
       "      <th></th>\n",
       "      <th>RespondentID</th>\n",
       "      <th>Have you seen any of the 6 films in the Star Wars franchise?</th>\n",
       "      <th>Do you consider yourself to be a fan of the Star Wars film franchise?</th>\n",
       "      <th>Which of the following Star Wars films have you seen? Please select all that apply.</th>\n",
       "      <th>Unnamed: 4</th>\n",
       "      <th>Unnamed: 5</th>\n",
       "      <th>Unnamed: 6</th>\n",
       "      <th>Unnamed: 7</th>\n",
       "      <th>Unnamed: 8</th>\n",
       "      <th>Please rank the Star Wars films in order of preference with 1 being your favorite film in the franchise and 6 being your least favorite film.</th>\n",
       "      <th>Unnamed: 10</th>\n",
       "      <th>Unnamed: 11</th>\n",
       "      <th>Unnamed: 12</th>\n",
       "      <th>Unnamed: 13</th>\n",
       "      <th>Unnamed: 14</th>\n",
       "      <th>Please state whether you view the following characters favorably, unfavorably, or are unfamiliar with him/her.</th>\n",
       "      <th>Unnamed: 16</th>\n",
       "      <th>Unnamed: 17</th>\n",
       "      <th>Unnamed: 18</th>\n",
       "      <th>Unnamed: 19</th>\n",
       "      <th>Unnamed: 20</th>\n",
       "      <th>Unnamed: 21</th>\n",
       "      <th>Unnamed: 22</th>\n",
       "      <th>Unnamed: 23</th>\n",
       "      <th>Unnamed: 24</th>\n",
       "      <th>Unnamed: 25</th>\n",
       "      <th>Unnamed: 26</th>\n",
       "      <th>Unnamed: 27</th>\n",
       "      <th>Unnamed: 28</th>\n",
       "      <th>Which character shot first?</th>\n",
       "      <th>Are you familiar with the Expanded Universe?</th>\n",
       "      <th>Do you consider yourself to be a fan of the Expanded Universe?æ</th>\n",
       "      <th>Do you consider yourself to be a fan of the Star Trek franchise?</th>\n",
       "      <th>Gender</th>\n",
       "      <th>Age</th>\n",
       "      <th>Household Income</th>\n",
       "      <th>Education</th>\n",
       "      <th>Location (Census Region)</th>\n",
       "    </tr>\n",
       "  </thead>\n",
       "  <tbody>\n",
       "    <tr>\n",
       "      <th>0</th>\n",
       "      <td>NaN</td>\n",
       "      <td>Response</td>\n",
       "      <td>Response</td>\n",
       "      <td>Star Wars: Episode I  The Phantom Menace</td>\n",
       "      <td>Star Wars: Episode II  Attack of the Clones</td>\n",
       "      <td>Star Wars: Episode III  Revenge of the Sith</td>\n",
       "      <td>Star Wars: Episode IV  A New Hope</td>\n",
       "      <td>Star Wars: Episode V The Empire Strikes Back</td>\n",
       "      <td>Star Wars: Episode VI Return of the Jedi</td>\n",
       "      <td>Star Wars: Episode I  The Phantom Menace</td>\n",
       "      <td>Star Wars: Episode II  Attack of the Clones</td>\n",
       "      <td>Star Wars: Episode III  Revenge of the Sith</td>\n",
       "      <td>Star Wars: Episode IV  A New Hope</td>\n",
       "      <td>Star Wars: Episode V The Empire Strikes Back</td>\n",
       "      <td>Star Wars: Episode VI Return of the Jedi</td>\n",
       "      <td>Han Solo</td>\n",
       "      <td>Luke Skywalker</td>\n",
       "      <td>Princess Leia Organa</td>\n",
       "      <td>Anakin Skywalker</td>\n",
       "      <td>Obi Wan Kenobi</td>\n",
       "      <td>Emperor Palpatine</td>\n",
       "      <td>Darth Vader</td>\n",
       "      <td>Lando Calrissian</td>\n",
       "      <td>Boba Fett</td>\n",
       "      <td>C-3P0</td>\n",
       "      <td>R2 D2</td>\n",
       "      <td>Jar Jar Binks</td>\n",
       "      <td>Padme Amidala</td>\n",
       "      <td>Yoda</td>\n",
       "      <td>Response</td>\n",
       "      <td>Response</td>\n",
       "      <td>Response</td>\n",
       "      <td>Response</td>\n",
       "      <td>Response</td>\n",
       "      <td>Response</td>\n",
       "      <td>Response</td>\n",
       "      <td>Response</td>\n",
       "      <td>Response</td>\n",
       "    </tr>\n",
       "    <tr>\n",
       "      <th>1</th>\n",
       "      <td>3.292880e+09</td>\n",
       "      <td>Yes</td>\n",
       "      <td>Yes</td>\n",
       "      <td>Star Wars: Episode I  The Phantom Menace</td>\n",
       "      <td>Star Wars: Episode II  Attack of the Clones</td>\n",
       "      <td>Star Wars: Episode III  Revenge of the Sith</td>\n",
       "      <td>Star Wars: Episode IV  A New Hope</td>\n",
       "      <td>Star Wars: Episode V The Empire Strikes Back</td>\n",
       "      <td>Star Wars: Episode VI Return of the Jedi</td>\n",
       "      <td>3</td>\n",
       "      <td>2</td>\n",
       "      <td>1</td>\n",
       "      <td>4</td>\n",
       "      <td>5</td>\n",
       "      <td>6</td>\n",
       "      <td>Very favorably</td>\n",
       "      <td>Very favorably</td>\n",
       "      <td>Very favorably</td>\n",
       "      <td>Very favorably</td>\n",
       "      <td>Very favorably</td>\n",
       "      <td>Very favorably</td>\n",
       "      <td>Very favorably</td>\n",
       "      <td>Unfamiliar (N/A)</td>\n",
       "      <td>Unfamiliar (N/A)</td>\n",
       "      <td>Very favorably</td>\n",
       "      <td>Very favorably</td>\n",
       "      <td>Very favorably</td>\n",
       "      <td>Very favorably</td>\n",
       "      <td>Very favorably</td>\n",
       "      <td>I don't understand this question</td>\n",
       "      <td>Yes</td>\n",
       "      <td>No</td>\n",
       "      <td>No</td>\n",
       "      <td>Male</td>\n",
       "      <td>18-29</td>\n",
       "      <td>NaN</td>\n",
       "      <td>High school degree</td>\n",
       "      <td>South Atlantic</td>\n",
       "    </tr>\n",
       "    <tr>\n",
       "      <th>2</th>\n",
       "      <td>3.292880e+09</td>\n",
       "      <td>No</td>\n",
       "      <td>NaN</td>\n",
       "      <td>NaN</td>\n",
       "      <td>NaN</td>\n",
       "      <td>NaN</td>\n",
       "      <td>NaN</td>\n",
       "      <td>NaN</td>\n",
       "      <td>NaN</td>\n",
       "      <td>NaN</td>\n",
       "      <td>NaN</td>\n",
       "      <td>NaN</td>\n",
       "      <td>NaN</td>\n",
       "      <td>NaN</td>\n",
       "      <td>NaN</td>\n",
       "      <td>NaN</td>\n",
       "      <td>NaN</td>\n",
       "      <td>NaN</td>\n",
       "      <td>NaN</td>\n",
       "      <td>NaN</td>\n",
       "      <td>NaN</td>\n",
       "      <td>NaN</td>\n",
       "      <td>NaN</td>\n",
       "      <td>NaN</td>\n",
       "      <td>NaN</td>\n",
       "      <td>NaN</td>\n",
       "      <td>NaN</td>\n",
       "      <td>NaN</td>\n",
       "      <td>NaN</td>\n",
       "      <td>NaN</td>\n",
       "      <td>NaN</td>\n",
       "      <td>NaN</td>\n",
       "      <td>Yes</td>\n",
       "      <td>Male</td>\n",
       "      <td>18-29</td>\n",
       "      <td>$0 - $24,999</td>\n",
       "      <td>Bachelor degree</td>\n",
       "      <td>West South Central</td>\n",
       "    </tr>\n",
       "    <tr>\n",
       "      <th>3</th>\n",
       "      <td>3.292765e+09</td>\n",
       "      <td>Yes</td>\n",
       "      <td>No</td>\n",
       "      <td>Star Wars: Episode I  The Phantom Menace</td>\n",
       "      <td>Star Wars: Episode II  Attack of the Clones</td>\n",
       "      <td>Star Wars: Episode III  Revenge of the Sith</td>\n",
       "      <td>NaN</td>\n",
       "      <td>NaN</td>\n",
       "      <td>NaN</td>\n",
       "      <td>1</td>\n",
       "      <td>2</td>\n",
       "      <td>3</td>\n",
       "      <td>4</td>\n",
       "      <td>5</td>\n",
       "      <td>6</td>\n",
       "      <td>Somewhat favorably</td>\n",
       "      <td>Somewhat favorably</td>\n",
       "      <td>Somewhat favorably</td>\n",
       "      <td>Somewhat favorably</td>\n",
       "      <td>Somewhat favorably</td>\n",
       "      <td>Unfamiliar (N/A)</td>\n",
       "      <td>Unfamiliar (N/A)</td>\n",
       "      <td>Unfamiliar (N/A)</td>\n",
       "      <td>Unfamiliar (N/A)</td>\n",
       "      <td>Unfamiliar (N/A)</td>\n",
       "      <td>Unfamiliar (N/A)</td>\n",
       "      <td>Unfamiliar (N/A)</td>\n",
       "      <td>Unfamiliar (N/A)</td>\n",
       "      <td>Unfamiliar (N/A)</td>\n",
       "      <td>I don't understand this question</td>\n",
       "      <td>No</td>\n",
       "      <td>NaN</td>\n",
       "      <td>No</td>\n",
       "      <td>Male</td>\n",
       "      <td>18-29</td>\n",
       "      <td>$0 - $24,999</td>\n",
       "      <td>High school degree</td>\n",
       "      <td>West North Central</td>\n",
       "    </tr>\n",
       "    <tr>\n",
       "      <th>4</th>\n",
       "      <td>3.292763e+09</td>\n",
       "      <td>Yes</td>\n",
       "      <td>Yes</td>\n",
       "      <td>Star Wars: Episode I  The Phantom Menace</td>\n",
       "      <td>Star Wars: Episode II  Attack of the Clones</td>\n",
       "      <td>Star Wars: Episode III  Revenge of the Sith</td>\n",
       "      <td>Star Wars: Episode IV  A New Hope</td>\n",
       "      <td>Star Wars: Episode V The Empire Strikes Back</td>\n",
       "      <td>Star Wars: Episode VI Return of the Jedi</td>\n",
       "      <td>5</td>\n",
       "      <td>6</td>\n",
       "      <td>1</td>\n",
       "      <td>2</td>\n",
       "      <td>4</td>\n",
       "      <td>3</td>\n",
       "      <td>Very favorably</td>\n",
       "      <td>Very favorably</td>\n",
       "      <td>Very favorably</td>\n",
       "      <td>Very favorably</td>\n",
       "      <td>Very favorably</td>\n",
       "      <td>Somewhat favorably</td>\n",
       "      <td>Very favorably</td>\n",
       "      <td>Somewhat favorably</td>\n",
       "      <td>Somewhat unfavorably</td>\n",
       "      <td>Very favorably</td>\n",
       "      <td>Very favorably</td>\n",
       "      <td>Very favorably</td>\n",
       "      <td>Very favorably</td>\n",
       "      <td>Very favorably</td>\n",
       "      <td>I don't understand this question</td>\n",
       "      <td>No</td>\n",
       "      <td>NaN</td>\n",
       "      <td>Yes</td>\n",
       "      <td>Male</td>\n",
       "      <td>18-29</td>\n",
       "      <td>$100,000 - $149,999</td>\n",
       "      <td>Some college or Associate degree</td>\n",
       "      <td>West North Central</td>\n",
       "    </tr>\n",
       "  </tbody>\n",
       "</table>\n",
       "</div>"
      ],
      "text/plain": [
       "   RespondentID Have you seen any of the 6 films in the Star Wars franchise?  \\\n",
       "0           NaN                                           Response             \n",
       "1  3.292880e+09                                                Yes             \n",
       "2  3.292880e+09                                                 No             \n",
       "3  3.292765e+09                                                Yes             \n",
       "4  3.292763e+09                                                Yes             \n",
       "\n",
       "  Do you consider yourself to be a fan of the Star Wars film franchise?  \\\n",
       "0                                           Response                      \n",
       "1                                                Yes                      \n",
       "2                                                NaN                      \n",
       "3                                                 No                      \n",
       "4                                                Yes                      \n",
       "\n",
       "  Which of the following Star Wars films have you seen? Please select all that apply.  \\\n",
       "0           Star Wars: Episode I  The Phantom Menace                                    \n",
       "1           Star Wars: Episode I  The Phantom Menace                                    \n",
       "2                                                NaN                                    \n",
       "3           Star Wars: Episode I  The Phantom Menace                                    \n",
       "4           Star Wars: Episode I  The Phantom Menace                                    \n",
       "\n",
       "                                    Unnamed: 4  \\\n",
       "0  Star Wars: Episode II  Attack of the Clones   \n",
       "1  Star Wars: Episode II  Attack of the Clones   \n",
       "2                                          NaN   \n",
       "3  Star Wars: Episode II  Attack of the Clones   \n",
       "4  Star Wars: Episode II  Attack of the Clones   \n",
       "\n",
       "                                    Unnamed: 5  \\\n",
       "0  Star Wars: Episode III  Revenge of the Sith   \n",
       "1  Star Wars: Episode III  Revenge of the Sith   \n",
       "2                                          NaN   \n",
       "3  Star Wars: Episode III  Revenge of the Sith   \n",
       "4  Star Wars: Episode III  Revenge of the Sith   \n",
       "\n",
       "                          Unnamed: 6  \\\n",
       "0  Star Wars: Episode IV  A New Hope   \n",
       "1  Star Wars: Episode IV  A New Hope   \n",
       "2                                NaN   \n",
       "3                                NaN   \n",
       "4  Star Wars: Episode IV  A New Hope   \n",
       "\n",
       "                                     Unnamed: 7  \\\n",
       "0  Star Wars: Episode V The Empire Strikes Back   \n",
       "1  Star Wars: Episode V The Empire Strikes Back   \n",
       "2                                           NaN   \n",
       "3                                           NaN   \n",
       "4  Star Wars: Episode V The Empire Strikes Back   \n",
       "\n",
       "                                 Unnamed: 8  \\\n",
       "0  Star Wars: Episode VI Return of the Jedi   \n",
       "1  Star Wars: Episode VI Return of the Jedi   \n",
       "2                                       NaN   \n",
       "3                                       NaN   \n",
       "4  Star Wars: Episode VI Return of the Jedi   \n",
       "\n",
       "  Please rank the Star Wars films in order of preference with 1 being your favorite film in the franchise and 6 being your least favorite film.  \\\n",
       "0           Star Wars: Episode I  The Phantom Menace                                                                                              \n",
       "1                                                  3                                                                                              \n",
       "2                                                NaN                                                                                              \n",
       "3                                                  1                                                                                              \n",
       "4                                                  5                                                                                              \n",
       "\n",
       "                                   Unnamed: 10  \\\n",
       "0  Star Wars: Episode II  Attack of the Clones   \n",
       "1                                            2   \n",
       "2                                          NaN   \n",
       "3                                            2   \n",
       "4                                            6   \n",
       "\n",
       "                                   Unnamed: 11  \\\n",
       "0  Star Wars: Episode III  Revenge of the Sith   \n",
       "1                                            1   \n",
       "2                                          NaN   \n",
       "3                                            3   \n",
       "4                                            1   \n",
       "\n",
       "                         Unnamed: 12  \\\n",
       "0  Star Wars: Episode IV  A New Hope   \n",
       "1                                  4   \n",
       "2                                NaN   \n",
       "3                                  4   \n",
       "4                                  2   \n",
       "\n",
       "                                    Unnamed: 13  \\\n",
       "0  Star Wars: Episode V The Empire Strikes Back   \n",
       "1                                             5   \n",
       "2                                           NaN   \n",
       "3                                             5   \n",
       "4                                             4   \n",
       "\n",
       "                                Unnamed: 14  \\\n",
       "0  Star Wars: Episode VI Return of the Jedi   \n",
       "1                                         6   \n",
       "2                                       NaN   \n",
       "3                                         6   \n",
       "4                                         3   \n",
       "\n",
       "  Please state whether you view the following characters favorably, unfavorably, or are unfamiliar with him/her.  \\\n",
       "0                                           Han Solo                                                               \n",
       "1                                     Very favorably                                                               \n",
       "2                                                NaN                                                               \n",
       "3                                 Somewhat favorably                                                               \n",
       "4                                     Very favorably                                                               \n",
       "\n",
       "          Unnamed: 16           Unnamed: 17         Unnamed: 18  \\\n",
       "0      Luke Skywalker  Princess Leia Organa    Anakin Skywalker   \n",
       "1      Very favorably        Very favorably      Very favorably   \n",
       "2                 NaN                   NaN                 NaN   \n",
       "3  Somewhat favorably    Somewhat favorably  Somewhat favorably   \n",
       "4      Very favorably        Very favorably      Very favorably   \n",
       "\n",
       "          Unnamed: 19         Unnamed: 20       Unnamed: 21  \\\n",
       "0      Obi Wan Kenobi   Emperor Palpatine       Darth Vader   \n",
       "1      Very favorably      Very favorably    Very favorably   \n",
       "2                 NaN                 NaN               NaN   \n",
       "3  Somewhat favorably    Unfamiliar (N/A)  Unfamiliar (N/A)   \n",
       "4      Very favorably  Somewhat favorably    Very favorably   \n",
       "\n",
       "          Unnamed: 22           Unnamed: 23       Unnamed: 24  \\\n",
       "0    Lando Calrissian             Boba Fett             C-3P0   \n",
       "1    Unfamiliar (N/A)      Unfamiliar (N/A)    Very favorably   \n",
       "2                 NaN                   NaN               NaN   \n",
       "3    Unfamiliar (N/A)      Unfamiliar (N/A)  Unfamiliar (N/A)   \n",
       "4  Somewhat favorably  Somewhat unfavorably    Very favorably   \n",
       "\n",
       "        Unnamed: 25       Unnamed: 26       Unnamed: 27       Unnamed: 28  \\\n",
       "0             R2 D2     Jar Jar Binks     Padme Amidala              Yoda   \n",
       "1    Very favorably    Very favorably    Very favorably    Very favorably   \n",
       "2               NaN               NaN               NaN               NaN   \n",
       "3  Unfamiliar (N/A)  Unfamiliar (N/A)  Unfamiliar (N/A)  Unfamiliar (N/A)   \n",
       "4    Very favorably    Very favorably    Very favorably    Very favorably   \n",
       "\n",
       "        Which character shot first?  \\\n",
       "0                          Response   \n",
       "1  I don't understand this question   \n",
       "2                               NaN   \n",
       "3  I don't understand this question   \n",
       "4  I don't understand this question   \n",
       "\n",
       "  Are you familiar with the Expanded Universe?  \\\n",
       "0                                     Response   \n",
       "1                                          Yes   \n",
       "2                                          NaN   \n",
       "3                                           No   \n",
       "4                                           No   \n",
       "\n",
       "  Do you consider yourself to be a fan of the Expanded Universe?æ  \\\n",
       "0                                           Response                 \n",
       "1                                                 No                 \n",
       "2                                                NaN                 \n",
       "3                                                NaN                 \n",
       "4                                                NaN                 \n",
       "\n",
       "  Do you consider yourself to be a fan of the Star Trek franchise?    Gender  \\\n",
       "0                                           Response                Response   \n",
       "1                                                 No                    Male   \n",
       "2                                                Yes                    Male   \n",
       "3                                                 No                    Male   \n",
       "4                                                Yes                    Male   \n",
       "\n",
       "        Age     Household Income                         Education  \\\n",
       "0  Response             Response                          Response   \n",
       "1     18-29                  NaN                High school degree   \n",
       "2     18-29         $0 - $24,999                   Bachelor degree   \n",
       "3     18-29         $0 - $24,999                High school degree   \n",
       "4     18-29  $100,000 - $149,999  Some college or Associate degree   \n",
       "\n",
       "  Location (Census Region)  \n",
       "0                 Response  \n",
       "1           South Atlantic  \n",
       "2       West South Central  \n",
       "3       West North Central  \n",
       "4       West North Central  "
      ]
     },
     "execution_count": 1,
     "metadata": {},
     "output_type": "execute_result"
    }
   ],
   "source": [
    "import pandas as pd\n",
    "pd.options.display.max_columns = 40\n",
    "star_wars = pd.read_csv('StarWars.csv', encoding = 'latin')\n",
    "\n",
    "star_wars.head(5)"
   ]
  },
  {
   "cell_type": "markdown",
   "metadata": {},
   "source": [
    "## Cleaning Column Names\n",
    "The first row shows extra info about the columns in some cases. To clean this, I'll rename the columns to include that info and then delete the extra row."
   ]
  },
  {
   "cell_type": "code",
   "execution_count": 2,
   "metadata": {},
   "outputs": [
    {
     "data": {
      "text/plain": [
       "Index(['RespondentID',\n",
       "       'Have you seen any of the 6 films in the Star Wars franchise?',\n",
       "       'Do you consider yourself to be a fan of the Star Wars film franchise?',\n",
       "       'Which of the following Star Wars films have you seen? Please select all that apply.',\n",
       "       'Unnamed: 4', 'Unnamed: 5', 'Unnamed: 6', 'Unnamed: 7', 'Unnamed: 8',\n",
       "       'Please rank the Star Wars films in order of preference with 1 being your favorite film in the franchise and 6 being your least favorite film.',\n",
       "       'Unnamed: 10', 'Unnamed: 11', 'Unnamed: 12', 'Unnamed: 13',\n",
       "       'Unnamed: 14',\n",
       "       'Please state whether you view the following characters favorably, unfavorably, or are unfamiliar with him/her.',\n",
       "       'Unnamed: 16', 'Unnamed: 17', 'Unnamed: 18', 'Unnamed: 19',\n",
       "       'Unnamed: 20', 'Unnamed: 21', 'Unnamed: 22', 'Unnamed: 23',\n",
       "       'Unnamed: 24', 'Unnamed: 25', 'Unnamed: 26', 'Unnamed: 27',\n",
       "       'Unnamed: 28', 'Which character shot first?',\n",
       "       'Are you familiar with the Expanded Universe?',\n",
       "       'Do you consider yourself to be a fan of the Expanded Universe?æ',\n",
       "       'Do you consider yourself to be a fan of the Star Trek franchise?',\n",
       "       'Gender', 'Age', 'Household Income', 'Education',\n",
       "       'Location (Census Region)'],\n",
       "      dtype='object')"
      ]
     },
     "execution_count": 2,
     "metadata": {},
     "output_type": "execute_result"
    }
   ],
   "source": [
    "star_wars.columns"
   ]
  },
  {
   "cell_type": "code",
   "execution_count": 3,
   "metadata": {},
   "outputs": [],
   "source": [
    "#first row\n",
    "survey_additional_info = star_wars.iloc[0]\n",
    "\n",
    "#Uncomment to see first row:\n",
    "#print(survey_additional_info)"
   ]
  },
  {
   "cell_type": "code",
   "execution_count": 4,
   "metadata": {},
   "outputs": [],
   "source": [
    "#new column names\n",
    "col_names = {\n",
    "    'Have you seen any of the 6 films in the Star Wars franchise?' : 'seen_any',\n",
    "    'Do you consider yourself to be a fan of the Star Wars film franchise?' : 'sw_fan',\n",
    "    'Which of the following Star Wars films have you seen? Please select all that apply.': 'seen1',\n",
    "    'Unnamed: 4' : 'seen2',\n",
    "    'Unnamed: 5' : 'seen3',\n",
    "    'Unnamed: 6' : 'seen4',\n",
    "    'Unnamed: 7' : 'seen5',\n",
    "    'Unnamed: 8' : 'seen6',\n",
    "    'Please rank the Star Wars films in order of preference with 1 being your favorite film in the franchise and 6 being your least favorite film.' : 'rank1',\n",
    "    'Unnamed: 10' : 'rank2',\n",
    "    'Unnamed: 11' : 'rank3',\n",
    "    'Unnamed: 12' : 'rank4',\n",
    "    'Unnamed: 13' : 'rank5',\n",
    "    'Unnamed: 14' : 'rank6',\n",
    "    'Please state whether you view the following characters favorably, unfavorably, or are unfamiliar with him/her.': 'Han Solo',\n",
    "    'Unnamed: 16' : 'Luke Skywalker',\n",
    "    'Unnamed: 17' : 'Princess Leia Organa',\n",
    "    'Unnamed: 18' : 'Anakin Skywalker',\n",
    "    'Unnamed: 19' : 'Obi Wan Kenobi',\n",
    "    'Unnamed: 20' : 'Emperor Palpatine',\n",
    "    'Unnamed: 21' : 'Darth Vader',\n",
    "    'Unnamed: 22' : 'Lando Calrissian',\n",
    "    'Unnamed: 23' : 'Boba Fett',\n",
    "    'Unnamed: 24' : 'C-3P0',\n",
    "    'Unnamed: 25' : 'R2 D2',\n",
    "    'Unnamed: 26' : 'Jar Jar Binks',\n",
    "    'Unnamed: 27' : 'Padme Amidala',\n",
    "    'Unnamed: 28' : 'Yoda',\n",
    "    'Are you familiar with the Expanded Universe?' : 'expand_know',\n",
    "    'Do you consider yourself to be a fan of the Expanded Universe?æ' : 'expand_fan',\n",
    "    'Do you consider yourself to be a fan of the Star Trek franchise?': 'st_fan'}"
   ]
  },
  {
   "cell_type": "code",
   "execution_count": 5,
   "metadata": {},
   "outputs": [
    {
     "data": {
      "text/plain": [
       "Index(['RespondentID', 'seen_any', 'sw_fan', 'seen1', 'seen2', 'seen3',\n",
       "       'seen4', 'seen5', 'seen6', 'rank1', 'rank2', 'rank3', 'rank4', 'rank5',\n",
       "       'rank6', 'Han Solo', 'Luke Skywalker', 'Princess Leia Organa',\n",
       "       'Anakin Skywalker', 'Obi Wan Kenobi', 'Emperor Palpatine',\n",
       "       'Darth Vader', 'Lando Calrissian', 'Boba Fett', 'C-3P0', 'R2 D2',\n",
       "       'Jar Jar Binks', 'Padme Amidala', 'Yoda', 'Which character shot first?',\n",
       "       'expand_know', 'expand_fan', 'st_fan', 'Gender', 'Age',\n",
       "       'Household Income', 'Education', 'Location (Census Region)'],\n",
       "      dtype='object')"
      ]
     },
     "execution_count": 5,
     "metadata": {},
     "output_type": "execute_result"
    }
   ],
   "source": [
    "star_wars.rename(columns = col_names, inplace = True)\n",
    "\n",
    "star_wars.columns"
   ]
  },
  {
   "cell_type": "code",
   "execution_count": 6,
   "metadata": {},
   "outputs": [],
   "source": [
    "#Now deleting header row\n",
    "star_wars = star_wars.drop([0])"
   ]
  },
  {
   "cell_type": "markdown",
   "metadata": {},
   "source": [
    "## Column Summary \n",
    "\n",
    "The columns we'll refer to are:\n",
    "\n",
    "Column | Description\n",
    "--- | :---\n",
    "`seen_any` | Whether respondent has seen any film\n",
    "`seen_x` | Whether respondent has seen Episode x\n",
    "`rank_x` | Respondent's ranking of Episode x (1 = best, 6 = worst)\n",
    "`st_fan` | Whether respondent is a Star Trek Fan\n",
    "`Gender` | Respondents's gender\n",
    "`Age` | Respondent's age group\n"
   ]
  },
  {
   "cell_type": "markdown",
   "metadata": {},
   "source": [
    "Next we confirm there are no rows without a respondent ID, to avoid null values:"
   ]
  },
  {
   "cell_type": "code",
   "execution_count": 7,
   "metadata": {},
   "outputs": [
    {
     "name": "stdout",
     "output_type": "stream",
     "text": [
      "(1186, 38)\n",
      "1186\n"
     ]
    }
   ],
   "source": [
    "print(star_wars.shape)\n",
    "\n",
    "print(star_wars['RespondentID'].notnull().sum())\n",
    "\n",
    "#Note could drop null rows with a boolean: star_wars = star_wars[pd.notnull(star_wars[\"RespondentID\"])]"
   ]
  },
  {
   "cell_type": "markdown",
   "metadata": {},
   "source": [
    "## Cleaning Boolean Data Columns\n",
    "\n",
    "From the `sw_fan` column we can count the number of fans:"
   ]
  },
  {
   "cell_type": "code",
   "execution_count": 8,
   "metadata": {},
   "outputs": [
    {
     "data": {
      "text/plain": [
       "Yes    552\n",
       "NaN    350\n",
       "No     284\n",
       "Name: sw_fan, dtype: int64"
      ]
     },
     "execution_count": 8,
     "metadata": {},
     "output_type": "execute_result"
    }
   ],
   "source": [
    "#how many star wars fans?\n",
    "star_wars['sw_fan'].value_counts(dropna = False)"
   ]
  },
  {
   "cell_type": "markdown",
   "metadata": {},
   "source": [
    "We can also see that response are yes/no. We convert these to Boolean values to aid further data processing."
   ]
  },
  {
   "cell_type": "code",
   "execution_count": 9,
   "metadata": {},
   "outputs": [],
   "source": [
    "yes_no = {'Yes' : True, 'No' : False}\n",
    "\n",
    "cols_yes_no = ['seen_any', 'sw_fan', 'expand_know', 'expand_fan', 'st_fan']\n",
    "\n",
    "for col in cols_yes_no:\n",
    "    star_wars[col] = star_wars[col].map(yes_no)"
   ]
  },
  {
   "cell_type": "markdown",
   "metadata": {},
   "source": [
    "Additionally, we change the `seen_x` columns to Boolean values:"
   ]
  },
  {
   "cell_type": "code",
   "execution_count": 10,
   "metadata": {},
   "outputs": [],
   "source": [
    "#relabeling seen movies to booleans\n",
    "import numpy as np\n",
    "seen_map = {'Star Wars: Episode I  The Phantom Menace': True, \n",
    "            'Star Wars: Episode II  Attack of the Clones': True, \n",
    "            'Star Wars: Episode III  Revenge of the Sith' : True,\n",
    "            'Star Wars: Episode IV  A New Hope' : True, \n",
    "            'Star Wars: Episode V The Empire Strikes Back' : True,\n",
    "            'Star Wars: Episode VI Return of the Jedi' : True, \n",
    "            np.NaN : False}\n",
    "            \n",
    "for n in range(1,7):\n",
    "    star_wars['seen{}'.format(n)] = star_wars['seen{}'.format(n)].map(seen_map)"
   ]
  },
  {
   "cell_type": "markdown",
   "metadata": {},
   "source": [
    "## Sample of Cleaned Data"
   ]
  },
  {
   "cell_type": "code",
   "execution_count": 11,
   "metadata": {},
   "outputs": [
    {
     "data": {
      "text/html": [
       "<div>\n",
       "<style scoped>\n",
       "    .dataframe tbody tr th:only-of-type {\n",
       "        vertical-align: middle;\n",
       "    }\n",
       "\n",
       "    .dataframe tbody tr th {\n",
       "        vertical-align: top;\n",
       "    }\n",
       "\n",
       "    .dataframe thead th {\n",
       "        text-align: right;\n",
       "    }\n",
       "</style>\n",
       "<table border=\"1\" class=\"dataframe\">\n",
       "  <thead>\n",
       "    <tr style=\"text-align: right;\">\n",
       "      <th></th>\n",
       "      <th>RespondentID</th>\n",
       "      <th>seen_any</th>\n",
       "      <th>sw_fan</th>\n",
       "      <th>seen1</th>\n",
       "      <th>seen2</th>\n",
       "      <th>seen3</th>\n",
       "      <th>seen4</th>\n",
       "      <th>seen5</th>\n",
       "      <th>seen6</th>\n",
       "      <th>rank1</th>\n",
       "      <th>rank2</th>\n",
       "      <th>rank3</th>\n",
       "      <th>rank4</th>\n",
       "      <th>rank5</th>\n",
       "      <th>rank6</th>\n",
       "      <th>Han Solo</th>\n",
       "      <th>Luke Skywalker</th>\n",
       "      <th>Princess Leia Organa</th>\n",
       "      <th>Anakin Skywalker</th>\n",
       "      <th>Obi Wan Kenobi</th>\n",
       "      <th>Emperor Palpatine</th>\n",
       "      <th>Darth Vader</th>\n",
       "      <th>Lando Calrissian</th>\n",
       "      <th>Boba Fett</th>\n",
       "      <th>C-3P0</th>\n",
       "      <th>R2 D2</th>\n",
       "      <th>Jar Jar Binks</th>\n",
       "      <th>Padme Amidala</th>\n",
       "      <th>Yoda</th>\n",
       "      <th>Which character shot first?</th>\n",
       "      <th>expand_know</th>\n",
       "      <th>expand_fan</th>\n",
       "      <th>st_fan</th>\n",
       "      <th>Gender</th>\n",
       "      <th>Age</th>\n",
       "      <th>Household Income</th>\n",
       "      <th>Education</th>\n",
       "      <th>Location (Census Region)</th>\n",
       "    </tr>\n",
       "  </thead>\n",
       "  <tbody>\n",
       "    <tr>\n",
       "      <th>1</th>\n",
       "      <td>3.292880e+09</td>\n",
       "      <td>True</td>\n",
       "      <td>True</td>\n",
       "      <td>True</td>\n",
       "      <td>True</td>\n",
       "      <td>True</td>\n",
       "      <td>True</td>\n",
       "      <td>True</td>\n",
       "      <td>True</td>\n",
       "      <td>3</td>\n",
       "      <td>2</td>\n",
       "      <td>1</td>\n",
       "      <td>4</td>\n",
       "      <td>5</td>\n",
       "      <td>6</td>\n",
       "      <td>Very favorably</td>\n",
       "      <td>Very favorably</td>\n",
       "      <td>Very favorably</td>\n",
       "      <td>Very favorably</td>\n",
       "      <td>Very favorably</td>\n",
       "      <td>Very favorably</td>\n",
       "      <td>Very favorably</td>\n",
       "      <td>Unfamiliar (N/A)</td>\n",
       "      <td>Unfamiliar (N/A)</td>\n",
       "      <td>Very favorably</td>\n",
       "      <td>Very favorably</td>\n",
       "      <td>Very favorably</td>\n",
       "      <td>Very favorably</td>\n",
       "      <td>Very favorably</td>\n",
       "      <td>I don't understand this question</td>\n",
       "      <td>True</td>\n",
       "      <td>False</td>\n",
       "      <td>False</td>\n",
       "      <td>Male</td>\n",
       "      <td>18-29</td>\n",
       "      <td>NaN</td>\n",
       "      <td>High school degree</td>\n",
       "      <td>South Atlantic</td>\n",
       "    </tr>\n",
       "    <tr>\n",
       "      <th>2</th>\n",
       "      <td>3.292880e+09</td>\n",
       "      <td>False</td>\n",
       "      <td>NaN</td>\n",
       "      <td>False</td>\n",
       "      <td>False</td>\n",
       "      <td>False</td>\n",
       "      <td>False</td>\n",
       "      <td>False</td>\n",
       "      <td>False</td>\n",
       "      <td>NaN</td>\n",
       "      <td>NaN</td>\n",
       "      <td>NaN</td>\n",
       "      <td>NaN</td>\n",
       "      <td>NaN</td>\n",
       "      <td>NaN</td>\n",
       "      <td>NaN</td>\n",
       "      <td>NaN</td>\n",
       "      <td>NaN</td>\n",
       "      <td>NaN</td>\n",
       "      <td>NaN</td>\n",
       "      <td>NaN</td>\n",
       "      <td>NaN</td>\n",
       "      <td>NaN</td>\n",
       "      <td>NaN</td>\n",
       "      <td>NaN</td>\n",
       "      <td>NaN</td>\n",
       "      <td>NaN</td>\n",
       "      <td>NaN</td>\n",
       "      <td>NaN</td>\n",
       "      <td>NaN</td>\n",
       "      <td>NaN</td>\n",
       "      <td>NaN</td>\n",
       "      <td>True</td>\n",
       "      <td>Male</td>\n",
       "      <td>18-29</td>\n",
       "      <td>$0 - $24,999</td>\n",
       "      <td>Bachelor degree</td>\n",
       "      <td>West South Central</td>\n",
       "    </tr>\n",
       "    <tr>\n",
       "      <th>3</th>\n",
       "      <td>3.292765e+09</td>\n",
       "      <td>True</td>\n",
       "      <td>False</td>\n",
       "      <td>True</td>\n",
       "      <td>True</td>\n",
       "      <td>True</td>\n",
       "      <td>False</td>\n",
       "      <td>False</td>\n",
       "      <td>False</td>\n",
       "      <td>1</td>\n",
       "      <td>2</td>\n",
       "      <td>3</td>\n",
       "      <td>4</td>\n",
       "      <td>5</td>\n",
       "      <td>6</td>\n",
       "      <td>Somewhat favorably</td>\n",
       "      <td>Somewhat favorably</td>\n",
       "      <td>Somewhat favorably</td>\n",
       "      <td>Somewhat favorably</td>\n",
       "      <td>Somewhat favorably</td>\n",
       "      <td>Unfamiliar (N/A)</td>\n",
       "      <td>Unfamiliar (N/A)</td>\n",
       "      <td>Unfamiliar (N/A)</td>\n",
       "      <td>Unfamiliar (N/A)</td>\n",
       "      <td>Unfamiliar (N/A)</td>\n",
       "      <td>Unfamiliar (N/A)</td>\n",
       "      <td>Unfamiliar (N/A)</td>\n",
       "      <td>Unfamiliar (N/A)</td>\n",
       "      <td>Unfamiliar (N/A)</td>\n",
       "      <td>I don't understand this question</td>\n",
       "      <td>False</td>\n",
       "      <td>NaN</td>\n",
       "      <td>False</td>\n",
       "      <td>Male</td>\n",
       "      <td>18-29</td>\n",
       "      <td>$0 - $24,999</td>\n",
       "      <td>High school degree</td>\n",
       "      <td>West North Central</td>\n",
       "    </tr>\n",
       "    <tr>\n",
       "      <th>4</th>\n",
       "      <td>3.292763e+09</td>\n",
       "      <td>True</td>\n",
       "      <td>True</td>\n",
       "      <td>True</td>\n",
       "      <td>True</td>\n",
       "      <td>True</td>\n",
       "      <td>True</td>\n",
       "      <td>True</td>\n",
       "      <td>True</td>\n",
       "      <td>5</td>\n",
       "      <td>6</td>\n",
       "      <td>1</td>\n",
       "      <td>2</td>\n",
       "      <td>4</td>\n",
       "      <td>3</td>\n",
       "      <td>Very favorably</td>\n",
       "      <td>Very favorably</td>\n",
       "      <td>Very favorably</td>\n",
       "      <td>Very favorably</td>\n",
       "      <td>Very favorably</td>\n",
       "      <td>Somewhat favorably</td>\n",
       "      <td>Very favorably</td>\n",
       "      <td>Somewhat favorably</td>\n",
       "      <td>Somewhat unfavorably</td>\n",
       "      <td>Very favorably</td>\n",
       "      <td>Very favorably</td>\n",
       "      <td>Very favorably</td>\n",
       "      <td>Very favorably</td>\n",
       "      <td>Very favorably</td>\n",
       "      <td>I don't understand this question</td>\n",
       "      <td>False</td>\n",
       "      <td>NaN</td>\n",
       "      <td>True</td>\n",
       "      <td>Male</td>\n",
       "      <td>18-29</td>\n",
       "      <td>$100,000 - $149,999</td>\n",
       "      <td>Some college or Associate degree</td>\n",
       "      <td>West North Central</td>\n",
       "    </tr>\n",
       "    <tr>\n",
       "      <th>5</th>\n",
       "      <td>3.292731e+09</td>\n",
       "      <td>True</td>\n",
       "      <td>True</td>\n",
       "      <td>True</td>\n",
       "      <td>True</td>\n",
       "      <td>True</td>\n",
       "      <td>True</td>\n",
       "      <td>True</td>\n",
       "      <td>True</td>\n",
       "      <td>5</td>\n",
       "      <td>4</td>\n",
       "      <td>6</td>\n",
       "      <td>2</td>\n",
       "      <td>1</td>\n",
       "      <td>3</td>\n",
       "      <td>Very favorably</td>\n",
       "      <td>Somewhat favorably</td>\n",
       "      <td>Somewhat favorably</td>\n",
       "      <td>Somewhat unfavorably</td>\n",
       "      <td>Very favorably</td>\n",
       "      <td>Very unfavorably</td>\n",
       "      <td>Somewhat favorably</td>\n",
       "      <td>Neither favorably nor unfavorably (neutral)</td>\n",
       "      <td>Very favorably</td>\n",
       "      <td>Somewhat favorably</td>\n",
       "      <td>Somewhat favorably</td>\n",
       "      <td>Very unfavorably</td>\n",
       "      <td>Somewhat favorably</td>\n",
       "      <td>Somewhat favorably</td>\n",
       "      <td>Greedo</td>\n",
       "      <td>True</td>\n",
       "      <td>False</td>\n",
       "      <td>False</td>\n",
       "      <td>Male</td>\n",
       "      <td>18-29</td>\n",
       "      <td>$100,000 - $149,999</td>\n",
       "      <td>Some college or Associate degree</td>\n",
       "      <td>West North Central</td>\n",
       "    </tr>\n",
       "  </tbody>\n",
       "</table>\n",
       "</div>"
      ],
      "text/plain": [
       "   RespondentID  seen_any sw_fan  seen1  seen2  seen3  seen4  seen5  seen6  \\\n",
       "1  3.292880e+09      True   True   True   True   True   True   True   True   \n",
       "2  3.292880e+09     False    NaN  False  False  False  False  False  False   \n",
       "3  3.292765e+09      True  False   True   True   True  False  False  False   \n",
       "4  3.292763e+09      True   True   True   True   True   True   True   True   \n",
       "5  3.292731e+09      True   True   True   True   True   True   True   True   \n",
       "\n",
       "  rank1 rank2 rank3 rank4 rank5 rank6            Han Solo      Luke Skywalker  \\\n",
       "1     3     2     1     4     5     6      Very favorably      Very favorably   \n",
       "2   NaN   NaN   NaN   NaN   NaN   NaN                 NaN                 NaN   \n",
       "3     1     2     3     4     5     6  Somewhat favorably  Somewhat favorably   \n",
       "4     5     6     1     2     4     3      Very favorably      Very favorably   \n",
       "5     5     4     6     2     1     3      Very favorably  Somewhat favorably   \n",
       "\n",
       "  Princess Leia Organa      Anakin Skywalker      Obi Wan Kenobi  \\\n",
       "1       Very favorably        Very favorably      Very favorably   \n",
       "2                  NaN                   NaN                 NaN   \n",
       "3   Somewhat favorably    Somewhat favorably  Somewhat favorably   \n",
       "4       Very favorably        Very favorably      Very favorably   \n",
       "5   Somewhat favorably  Somewhat unfavorably      Very favorably   \n",
       "\n",
       "    Emperor Palpatine         Darth Vader  \\\n",
       "1      Very favorably      Very favorably   \n",
       "2                 NaN                 NaN   \n",
       "3    Unfamiliar (N/A)    Unfamiliar (N/A)   \n",
       "4  Somewhat favorably      Very favorably   \n",
       "5    Very unfavorably  Somewhat favorably   \n",
       "\n",
       "                              Lando Calrissian             Boba Fett  \\\n",
       "1                             Unfamiliar (N/A)      Unfamiliar (N/A)   \n",
       "2                                          NaN                   NaN   \n",
       "3                             Unfamiliar (N/A)      Unfamiliar (N/A)   \n",
       "4                           Somewhat favorably  Somewhat unfavorably   \n",
       "5  Neither favorably nor unfavorably (neutral)        Very favorably   \n",
       "\n",
       "                C-3P0               R2 D2     Jar Jar Binks  \\\n",
       "1      Very favorably      Very favorably    Very favorably   \n",
       "2                 NaN                 NaN               NaN   \n",
       "3    Unfamiliar (N/A)    Unfamiliar (N/A)  Unfamiliar (N/A)   \n",
       "4      Very favorably      Very favorably    Very favorably   \n",
       "5  Somewhat favorably  Somewhat favorably  Very unfavorably   \n",
       "\n",
       "        Padme Amidala                Yoda       Which character shot first?  \\\n",
       "1      Very favorably      Very favorably  I don't understand this question   \n",
       "2                 NaN                 NaN                               NaN   \n",
       "3    Unfamiliar (N/A)    Unfamiliar (N/A)  I don't understand this question   \n",
       "4      Very favorably      Very favorably  I don't understand this question   \n",
       "5  Somewhat favorably  Somewhat favorably                            Greedo   \n",
       "\n",
       "  expand_know expand_fan st_fan Gender    Age     Household Income  \\\n",
       "1        True      False  False   Male  18-29                  NaN   \n",
       "2         NaN        NaN   True   Male  18-29         $0 - $24,999   \n",
       "3       False        NaN  False   Male  18-29         $0 - $24,999   \n",
       "4       False        NaN   True   Male  18-29  $100,000 - $149,999   \n",
       "5        True      False  False   Male  18-29  $100,000 - $149,999   \n",
       "\n",
       "                          Education Location (Census Region)  \n",
       "1                High school degree           South Atlantic  \n",
       "2                   Bachelor degree       West South Central  \n",
       "3                High school degree       West North Central  \n",
       "4  Some college or Associate degree       West North Central  \n",
       "5  Some college or Associate degree       West North Central  "
      ]
     },
     "execution_count": 11,
     "metadata": {},
     "output_type": "execute_result"
    }
   ],
   "source": [
    "star_wars.head()"
   ]
  },
  {
   "cell_type": "markdown",
   "metadata": {},
   "source": [
    "## Average Movie Rankings\n",
    "\n",
    "The data is now cleaned and analysis can begin. We convert rankings to floats in order to calculate mean rankings."
   ]
  },
  {
   "cell_type": "code",
   "execution_count": 12,
   "metadata": {},
   "outputs": [],
   "source": [
    "star_wars[star_wars.columns[9:15]] = star_wars[star_wars.columns[9:15]].astype(float)"
   ]
  },
  {
   "cell_type": "code",
   "execution_count": 13,
   "metadata": {},
   "outputs": [
    {
     "data": {
      "text/plain": [
       "rank1    3.732934\n",
       "rank2    4.087321\n",
       "rank3    4.341317\n",
       "rank4    3.272727\n",
       "rank5    2.513158\n",
       "rank6    3.047847\n",
       "dtype: float64"
      ]
     },
     "execution_count": 13,
     "metadata": {},
     "output_type": "execute_result"
    }
   ],
   "source": [
    "rank_cols = ['rank1', 'rank2', 'rank3', 'rank4', 'rank5', 'rank6']\n",
    "\n",
    "star_wars[rank_cols].mean()"
   ]
  },
  {
   "cell_type": "markdown",
   "metadata": {},
   "source": [
    "Below we visualize these means."
   ]
  },
  {
   "cell_type": "code",
   "execution_count": 14,
   "metadata": {},
   "outputs": [],
   "source": [
    "import matplotlib.pyplot as plt\n",
    "%matplotlib inline"
   ]
  },
  {
   "cell_type": "code",
   "execution_count": 15,
   "metadata": {},
   "outputs": [
    {
     "data": {
      "image/png": "[encoded data removed]",
      "text/plain": [
       "<Figure size 432x288 with 1 Axes>"
      ]
     },
     "metadata": {
      "needs_background": "light"
     },
     "output_type": "display_data"
    }
   ],
   "source": [
    "fig, ax = plt.subplots()\n",
    "\n",
    "ax.bar(range(1,7), star_wars[rank_cols].mean())\n",
    "\n",
    "ax.set_xticks(range(1,7))\n",
    "ax.set_title('Mean Ranking (1 = best, 6 = worst)')\n",
    "ax.set_xlabel('Episode')\n",
    "ax.set_xticklabels(['I','II','III','IV','V','VI'])\n",
    "ax.set_ylim((1,6))\n",
    "\n",
    "plt.show()"
   ]
  },
  {
   "cell_type": "markdown",
   "metadata": {},
   "source": [
    "The above chart is a bit confusing, as we usually associate a taller bar with a higher ranking. We can achieve this by inverting the rankings, so that 1 = worst and 6 = best:"
   ]
  },
  {
   "cell_type": "code",
   "execution_count": 16,
   "metadata": {},
   "outputs": [
    {
     "data": {
      "image/png": "[encoded data removed]",
      "text/plain": [
       "<Figure size 432x288 with 1 Axes>"
      ]
     },
     "metadata": {
      "needs_background": "light"
     },
     "output_type": "display_data"
    }
   ],
   "source": [
    "for col in rank_cols:\n",
    "    star_wars['invert_'+col] = 6 - star_wars[col]\n",
    "\n",
    "invert_rank_cols = ['invert_'+col for col in rank_cols]\n",
    "fig, ax = plt.subplots()\n",
    "\n",
    "\n",
    "ax.bar(range(1,7), star_wars[invert_rank_cols].mean(), color = 'green')\n",
    "\n",
    "ax.set_xticks(range(1,7))\n",
    "ax.set_title('Mean Ranking')\n",
    "ax.set_xlabel('Episode')\n",
    "ax.set_xticklabels(['I','II','III','IV','V','VI'])\n",
    "ax.set_ylim((1,4))\n",
    "\n",
    "plt.show()"
   ]
  },
  {
   "cell_type": "markdown",
   "metadata": {},
   "source": [
    "The most popular movie, on average, was Episode V: The Empire Strikes Back. The other two original movies follow. The prequels are less popular and decrease in popularity from Episode I to Episode III. Which makes sense because those movies were garbage compared to the originals! Don't worry though, this is a very objective analysis.\n",
    "\n",
    "We'll continue to use the rankings 1 = best, 6 = worst in the analysis that follows.\n",
    "\n",
    "We can also visualize the distribution of rankings with a box plot:"
   ]
  },
  {
   "cell_type": "code",
   "execution_count": 17,
   "metadata": {
    "scrolled": true
   },
   "outputs": [
    {
     "data": {
      "image/png": "[encoded data removed]",
      "text/plain": [
       "<Figure size 432x288 with 1 Axes>"
      ]
     },
     "metadata": {
      "needs_background": "light"
     },
     "output_type": "display_data"
    }
   ],
   "source": [
    "fig, ax = plt.subplots()\n",
    "star_wars[invert_rank_cols].plot(kind = 'box', ax=ax, color = 'purple')\n",
    "ax.set_xticks(range(1,7))\n",
    "ax.set_xticklabels(['I','II','III','IV','V','VI'])\n",
    "plt.show()"
   ]
  },
  {
   "cell_type": "markdown",
   "metadata": {},
   "source": [
    "From the box plot we see that Episodes III and IV have a greater spread in the middle 50% of responses; Episode V fares the best again in terms of median score, and Episode III has the worst median ranking.\n",
    "\n",
    "As there is quite a wide spread of rankings visible in the box plot, our next step is to analyze factors that might contribute to the variety of responses.\n",
    "\n",
    "Respondents could rank an episode poorly because they didn't like it, or because they haven't seen it. We can investigate this further by checking the percentage of respondents who've seen each episode and comparing to the rankings."
   ]
  },
  {
   "cell_type": "code",
   "execution_count": 18,
   "metadata": {},
   "outputs": [
    {
     "data": {
      "image/png": "[encoded data removed]",
      "text/plain": [
       "<Figure size 432x288 with 1 Axes>"
      ]
     },
     "metadata": {
      "needs_background": "light"
     },
     "output_type": "display_data"
    }
   ],
   "source": [
    "seen_cols = ['seen1', 'seen2', 'seen3', 'seen4', 'seen5', 'seen6']\n",
    "\n",
    "#Series of Percentage who've seen each movie\n",
    "percent_seen = (round(star_wars[seen_cols].sum() / star_wars['seen_any'].sum() * 100, 1)\n",
    "                .reset_index().rename(columns = {0: 'percentage'}))\n",
    "\n",
    "#Series of rankings\n",
    "ranks = star_wars[invert_rank_cols].mean().reset_index().rename(columns = {0 : 'ranking'})\n",
    "\n",
    "merged = pd.merge(left = ranks, right = percent_seen, left_index = True, right_index = True)\n",
    "\n",
    "from matplotlib import cm\n",
    "\n",
    "fig, ax = plt.subplots()\n",
    "merged.plot(kind = 'scatter', x = 'ranking', y = 'percentage', ax = ax, c = range(len(merged)), colormap = 'winter')\n",
    "ax.set_title('Mean Ranking vs Percentage Who Have Seen Film')\n",
    "ax.set_xlim((1,5))\n",
    "ax.set_ylim((40,100))\n",
    "#Labeling point with Episode number:\n",
    "for index, point in merged[['ranking', 'percentage']].iterrows():\n",
    "    ax.annotate(index + 1, point,\n",
    "                xytext=(5,-7), textcoords='offset points',\n",
    "                family='sans-serif', fontsize=16, color='darkslategrey')\n",
    "\n",
    "plt.show()"
   ]
  },
  {
   "cell_type": "markdown",
   "metadata": {},
   "source": [
    "We see that viewership indeed tends to correlate with ranking. This suggests that people may have ranked movies lower not because they saw and disliked them, but because they didn't bother seeing them. The exception is Episode I, which is relatively unpopular for its viewership, and Episode IV, which is relatively more popular.\n",
    "\n",
    "Next we'll compare different subgroups of the respondents."
   ]
  },
  {
   "cell_type": "markdown",
   "metadata": {},
   "source": [
    "## Fans vs Non-Fans\n",
    "\n",
    "Firstly, are fan rankings different than non-fan rankings?"
   ]
  },
  {
   "cell_type": "code",
   "execution_count": 19,
   "metadata": {},
   "outputs": [
    {
     "data": {
      "image/png": "[encoded data removed]",
      "text/plain": [
       "<Figure size 432x288 with 1 Axes>"
      ]
     },
     "metadata": {
      "needs_background": "light"
     },
     "output_type": "display_data"
    }
   ],
   "source": [
    "fan_rank_pv = (star_wars.pivot_table(values = invert_rank_cols, index = 'sw_fan')\n",
    "               .transpose().rename(columns = {True:'Fans', False:'Not Fans'}))\n",
    "\n",
    "ax = fan_rank_pv.plot(kind = 'bar', ylim = (0,5), title = 'Mean rank of each movie', color = ['black', 'red'])\n",
    "ax.set_xlabel('Episode')\n",
    "ax.set_xticklabels(['I','II','III','IV','V','VI'], rotation = 0)\n",
    "ax.legend(title = '')\n",
    "plt.show()"
   ]
  },
  {
   "cell_type": "markdown",
   "metadata": {},
   "source": [
    "We can see that fans tend to prefer the originals (Episode IV-VI) to the prequels by a wide margin. For non-fans, Ep V is still the most popular, but Ep I is second most popular. Non-fans rank the prequels more generously than fans.\n",
    "\n",
    "As we did for all respondents, we can determine what percentage of fans & non-fans have seen the films. Below we graph the percentages next to the rankings graph."
   ]
  },
  {
   "cell_type": "code",
   "execution_count": 20,
   "metadata": {},
   "outputs": [
    {
     "data": {
      "image/png": "[encoded data removed]",
      "text/plain": [
       "<Figure size 864x432 with 2 Axes>"
      ]
     },
     "metadata": {
      "needs_background": "light"
     },
     "output_type": "display_data"
    }
   ],
   "source": [
    "seen_fan_pv = (star_wars.groupby('sw_fan').agg('mean')[seen_cols].transpose()\n",
    "               .rename(columns = {True:'Fans', False:'Not Fans'}))\n",
    "\n",
    "fig = plt.figure(figsize = (12,6))\n",
    "ax1 = fig.add_subplot(2,2,1)\n",
    "seen_fan_pv.plot(kind = 'bar', title = 'Percentage who have seen each film', \n",
    "                 ax = ax1, color = ['black', 'red'], legend = False)\n",
    "ax1.set_xlabel('Episode')\n",
    "ax1.set_xticklabels(['I','II','III','IV','V','VI'], rotation = 0)\n",
    "ax1.set_ylim((0,1))\n",
    "\n",
    "#is there an easier way to copy the figure above? can it be saved like a variable?\n",
    "ax2 = fig.add_subplot(2,2,2)\n",
    "fan_rank_pv.plot(kind = 'bar', title = 'Mean rank of each movie', \n",
    "                 ax = ax2, color = ['black', 'red'], legend = False)\n",
    "ax2.set_xlabel('Episode')\n",
    "ax2.set_xticklabels(['I','II','III','IV','V','VI'], rotation=0)\n",
    "ax2.set_ylim((0,4))\n",
    "\n",
    "handles, labels = ax2.get_legend_handles_labels()\n",
    "fig.legend(handles = handles, title = '')\n",
    "\n",
    "plt.show()"
   ]
  },
  {
   "cell_type": "markdown",
   "metadata": {},
   "source": [
    "Both fans and non-fans rank the films in the same order as the percentage who have seen them. \n",
    "\n",
    "However, fans have seen the prequels in much higher percentages than non-fans, suggesting their rankings indicate actual dislike rather than indifference.\n",
    "\n",
    "Surprisingly, Episode I has higher viewership than Episode IV (the original movie) in both populations."
   ]
  },
  {
   "cell_type": "markdown",
   "metadata": {},
   "source": [
    "## Gender Analysis\n",
    "\n",
    "Are there any trends in the rankings of different genders?"
   ]
  },
  {
   "cell_type": "code",
   "execution_count": 21,
   "metadata": {},
   "outputs": [
    {
     "data": {
      "text/html": [
       "<div>\n",
       "<style scoped>\n",
       "    .dataframe tbody tr th:only-of-type {\n",
       "        vertical-align: middle;\n",
       "    }\n",
       "\n",
       "    .dataframe tbody tr th {\n",
       "        vertical-align: top;\n",
       "    }\n",
       "\n",
       "    .dataframe thead th {\n",
       "        text-align: right;\n",
       "    }\n",
       "</style>\n",
       "<table border=\"1\" class=\"dataframe\">\n",
       "  <thead>\n",
       "    <tr style=\"text-align: right;\">\n",
       "      <th></th>\n",
       "      <th>seen_any</th>\n",
       "      <th>seen1</th>\n",
       "      <th>seen2</th>\n",
       "      <th>seen3</th>\n",
       "      <th>seen4</th>\n",
       "      <th>seen5</th>\n",
       "      <th>seen6</th>\n",
       "    </tr>\n",
       "    <tr>\n",
       "      <th>Gender</th>\n",
       "      <th></th>\n",
       "      <th></th>\n",
       "      <th></th>\n",
       "      <th></th>\n",
       "      <th></th>\n",
       "      <th></th>\n",
       "      <th></th>\n",
       "    </tr>\n",
       "  </thead>\n",
       "  <tbody>\n",
       "    <tr>\n",
       "      <th>Female</th>\n",
       "      <td>0.723133</td>\n",
       "      <td>0.542805</td>\n",
       "      <td>0.431694</td>\n",
       "      <td>0.404372</td>\n",
       "      <td>0.464481</td>\n",
       "      <td>0.642987</td>\n",
       "      <td>0.615665</td>\n",
       "    </tr>\n",
       "    <tr>\n",
       "      <th>Male</th>\n",
       "      <td>0.851107</td>\n",
       "      <td>0.726358</td>\n",
       "      <td>0.649899</td>\n",
       "      <td>0.637827</td>\n",
       "      <td>0.688129</td>\n",
       "      <td>0.788732</td>\n",
       "      <td>0.778672</td>\n",
       "    </tr>\n",
       "  </tbody>\n",
       "</table>\n",
       "</div>"
      ],
      "text/plain": [
       "        seen_any     seen1     seen2     seen3     seen4     seen5     seen6\n",
       "Gender                                                                      \n",
       "Female  0.723133  0.542805  0.431694  0.404372  0.464481  0.642987  0.615665\n",
       "Male    0.851107  0.726358  0.649899  0.637827  0.688129  0.788732  0.778672"
      ]
     },
     "execution_count": 21,
     "metadata": {},
     "output_type": "execute_result"
    }
   ],
   "source": [
    "star_wars.groupby('Gender').agg(np.mean)[['seen_any'] + seen_cols]"
   ]
  },
  {
   "cell_type": "markdown",
   "metadata": {},
   "source": [
    "A higher percentage of males (85%) than females (72%) surveyed have seen any films.\n",
    "\n",
    "I wonder how many have seen all?"
   ]
  },
  {
   "cell_type": "code",
   "execution_count": 22,
   "metadata": {},
   "outputs": [
    {
     "name": "stdout",
     "output_type": "stream",
     "text": [
      "Percent surveyed who saw all: 39.7 %\n",
      "Of those seeing any, percent who also saw all: 50.3 %\n"
     ]
    },
    {
     "data": {
      "text/html": [
       "<div>\n",
       "<style scoped>\n",
       "    .dataframe tbody tr th:only-of-type {\n",
       "        vertical-align: middle;\n",
       "    }\n",
       "\n",
       "    .dataframe tbody tr th {\n",
       "        vertical-align: top;\n",
       "    }\n",
       "\n",
       "    .dataframe thead th {\n",
       "        text-align: right;\n",
       "    }\n",
       "</style>\n",
       "<table border=\"1\" class=\"dataframe\">\n",
       "  <thead>\n",
       "    <tr style=\"text-align: right;\">\n",
       "      <th></th>\n",
       "      <th>seen_all</th>\n",
       "    </tr>\n",
       "    <tr>\n",
       "      <th>Gender</th>\n",
       "      <th></th>\n",
       "    </tr>\n",
       "  </thead>\n",
       "  <tbody>\n",
       "    <tr>\n",
       "      <th>Female</th>\n",
       "      <td>0.335155</td>\n",
       "    </tr>\n",
       "    <tr>\n",
       "      <th>Male</th>\n",
       "      <td>0.561368</td>\n",
       "    </tr>\n",
       "  </tbody>\n",
       "</table>\n",
       "</div>"
      ],
      "text/plain": [
       "        seen_all\n",
       "Gender          \n",
       "Female  0.335155\n",
       "Male    0.561368"
      ]
     },
     "execution_count": 22,
     "metadata": {},
     "output_type": "execute_result"
    }
   ],
   "source": [
    "star_wars['seen_all'] = star_wars[seen_cols].all(axis = 1)\n",
    "\n",
    "print('Percent surveyed who saw all:', round(star_wars['seen_all'].sum()/star_wars['seen_all'].count()*100, 1), '%')\n",
    "print('Of those seeing any, percent who also saw all:', round(star_wars['seen_all'].sum()/star_wars['seen_any'].sum()*100, 1), '%')\n",
    "\n",
    "star_wars.pivot_table(values = 'seen_all', index = 'Gender', aggfunc = 'mean')"
   ]
  },
  {
   "cell_type": "markdown",
   "metadata": {},
   "source": [
    "Overall, about 40% of respondents saw all films, and about half of those who saw one, saw all.\n",
    "\n",
    "Similarly to the percentages for seeing one film, fewer females (34%) saw all than males (65%). However, the gap is twice as wide here than in the \"seen any\" percentages, suggesting that overall, males in this survey were more invested in seeing all films.\n"
   ]
  },
  {
   "cell_type": "markdown",
   "metadata": {},
   "source": [
    "## Star Trek vs Star Wars\n",
    "Next we investigate the popular (well, nerd popular) assumption that Star Wars and Star Trek fans are mutually exclusive groups. Do Star Wars fans really hate Star Wars, and vice versa?"
   ]
  },
  {
   "cell_type": "code",
   "execution_count": 23,
   "metadata": {},
   "outputs": [
    {
     "name": "stdout",
     "output_type": "stream",
     "text": [
      "Respondents who are Star Trek fans: 0.4\n",
      "Star Wars fans who are Star Trek fans: 0.68\n",
      "Respondents who are Star Wars fans: 0.66\n",
      "Star Trek fans who are Star Wars fans: 0.89\n"
     ]
    }
   ],
   "source": [
    "print('Respondents who are Star Trek fans:' , round(star_wars['st_fan'].mean(), 2))\n",
    "print('Star Wars fans who are Star Trek fans:' , round(star_wars[star_wars['sw_fan'] == True]['st_fan'].mean(), 2))\n",
    "print('Respondents who are Star Wars fans:' , round(star_wars['sw_fan'].mean(), 2))\n",
    "print('Star Trek fans who are Star Wars fans:' , round(star_wars[star_wars['st_fan'] == True]['sw_fan'].mean(), 2))"
   ]
  },
  {
   "cell_type": "markdown",
   "metadata": {},
   "source": [
    "Star Wars fans are 1.5 times *more* likely to be Star Trek fans than the general survey population. In this survey, respondents were more likely to be only a Star Wars fan than only a Star Trek fan, but this could be due to self-selection of respondents."
   ]
  },
  {
   "cell_type": "markdown",
   "metadata": {},
   "source": [
    "## Age Analysis\n",
    "Earlier it was noted that Episode I was seen by more respondents than Episode IV. This made me wonder if this has to do with the age demographic being surveyed - younger people are more likely to have seen the prequels first. Older people may have seen the originals and the prequels. We'll investigate below:"
   ]
  },
  {
   "cell_type": "code",
   "execution_count": 24,
   "metadata": {},
   "outputs": [
    {
     "data": {
      "image/png": "[encoded data removed]",
      "text/plain": [
       "<Figure size 432x288 with 1 Axes>"
      ]
     },
     "metadata": {
      "needs_background": "light"
     },
     "output_type": "display_data"
    }
   ],
   "source": [
    "age_totals = star_wars['Age'].value_counts(dropna = False).iloc[[3,2,0,1,4]]\n",
    "\n",
    "age_totals.plot.bar(title = 'Number of Respondents by Age', color = 'orange')\n",
    "plt.xticks(rotation=0)\n",
    "plt.show()"
   ]
  },
  {
   "cell_type": "markdown",
   "metadata": {},
   "source": [
    "There is a fairly uniform spread in age, with slightly fewer respondents in the youngest category. Now we'll investigate how many in each age group have seen any film and each film."
   ]
  },
  {
   "cell_type": "code",
   "execution_count": 25,
   "metadata": {},
   "outputs": [
    {
     "data": {
      "image/png": "[encoded data removed]",
      "text/plain": [
       "<Figure size 432x288 with 1 Axes>"
      ]
     },
     "metadata": {
      "needs_background": "light"
     },
     "output_type": "display_data"
    }
   ],
   "source": [
    "star_wars.groupby('Age').agg('mean')['seen_any'].plot(kind = 'bar', \n",
    "                                                      title = 'Percent Who Have Seen Any Film', \n",
    "                                                      ylim=(0,1), color = 'teal')\n",
    "plt.xticks(rotation=0)\n",
    "plt.show()"
   ]
  },
  {
   "cell_type": "markdown",
   "metadata": {},
   "source": [
    "The age groups are also fairly uniformly distributed in having seen any of the movies; a testament to the pervasiveness of Star Wars movies in the last half century! Slightly fewer in the oldest category have seen any film."
   ]
  },
  {
   "cell_type": "code",
   "execution_count": 26,
   "metadata": {},
   "outputs": [
    {
     "data": {
      "image/png": "[encoded data removed]",
      "text/plain": [
       "<Figure size 432x288 with 1 Axes>"
      ]
     },
     "metadata": {
      "needs_background": "light"
     },
     "output_type": "display_data"
    }
   ],
   "source": [
    "fig, ax = plt.subplots()\n",
    "star_wars.groupby('Age').agg('mean')[seen_cols].transpose().plot(kind = 'bar' , ylim = (0,1), ax = ax,\n",
    "                                                                 title = 'Percent Who Have Seen Each Film',\n",
    "                                                                 legend = False)\n",
    "ax.set_xticklabels(['I','II','III','IV','V','VI'], rotation=0)\n",
    "fig.legend(title = 'Age Group', bbox_to_anchor=(1.1, .9))\n",
    "plt.show()"
   ]
  },
  {
   "cell_type": "markdown",
   "metadata": {},
   "source": [
    "From the graph we can see that there is a noticeable decline in viewership of the prequels with age group. This is also true for Episode IV. However, Episodes V and VI have been viewed more uniformly - and by more old people.\n",
    "\n",
    "How did each age group rank the films, and does this correlate to viewership? We compare rankings and percentages below:"
   ]
  },
  {
   "cell_type": "code",
   "execution_count": 27,
   "metadata": {},
   "outputs": [
    {
     "data": {
      "image/png": "[encoded data removed]",
      "text/plain": [
       "<Figure size 864x576 with 2 Axes>"
      ]
     },
     "metadata": {
      "needs_background": "light"
     },
     "output_type": "display_data"
    }
   ],
   "source": [
    "fig = plt.figure(figsize = (12,8))\n",
    "ax1 = fig.add_subplot(2,2,1)\n",
    "star_wars.groupby('Age').agg('mean')[invert_rank_cols].transpose().plot(kind = 'bar' , ylim = (0,4), ax = ax1,\n",
    "                                                                title = 'Average Ranking of Film',\n",
    "                                                                legend = False)\n",
    "ax1.set_xticklabels(['I','II','III','IV','V','VI'], rotation=0)\n",
    "ax1.set_yticks(range(0,5))\n",
    "fig.legend(title = 'Age Group', bbox_to_anchor=(1, .9))\n",
    "\n",
    "ax2 = fig.add_subplot(2,2,2)\n",
    "star_wars.groupby('Age').agg('mean')[seen_cols].transpose().plot(kind = 'bar' , ylim = (0,1), ax = ax2,\n",
    "                                                                 title = 'Percent Who Have Seen Each Film',\n",
    "                                                                 legend = False)\n",
    "ax2.set_xticklabels(['I','II','III','IV','V','VI'], rotation=0)\n",
    "\n",
    "plt.show()"
   ]
  },
  {
   "cell_type": "markdown",
   "metadata": {},
   "source": [
    "We see from the left graph that all age groups ranked Episode V the highest, with VI closely behind. The age groups differ on Episodes I and IV: younger people prefer Episode IV, while older people prefer Episode I. This is surprising - I would expect older people to prefer the original movie, but in fact they seem to have seen and liked the first prequel more. The two older age groups' rankings follow their viewership, while in the two younger categories we see a similar distribution to the fans: prequels are consistently ranked lower despite more uniform viewership. (This could be due to most fans being younger.)\n",
    "\n",
    "And nearly everyone agrees that the last two prequels are the worst."
   ]
  },
  {
   "cell_type": "code",
   "execution_count": null,
   "metadata": {},
   "outputs": [],
   "source": []
  }
 ],
 "metadata": {
  "kernelspec": {
   "display_name": "Python 3",
   "language": "python",
   "name": "python3"
  },
  "language_info": {
   "codemirror_mode": {
    "name": "ipython",
    "version": 3
   },
   "file_extension": ".py",
   "mimetype": "text/x-python",
   "name": "python",
   "nbconvert_exporter": "python",
   "pygments_lexer": "ipython3",
   "version": "3.8.5"
  }
 },
 "nbformat": 4,
 "nbformat_minor": 4
}
